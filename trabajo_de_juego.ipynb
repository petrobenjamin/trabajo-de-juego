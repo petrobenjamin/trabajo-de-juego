{
  "nbformat": 4,
  "nbformat_minor": 0,
  "metadata": {
    "colab": {
      "provenance": [],
      "authorship_tag": "ABX9TyNFCHQkqligqTtAdklAmWgM",
      "include_colab_link": true
    },
    "kernelspec": {
      "name": "python3",
      "display_name": "Python 3"
    },
    "language_info": {
      "name": "python"
    }
  },
  "cells": [
    {
      "cell_type": "markdown",
      "metadata": {
        "id": "view-in-github",
        "colab_type": "text"
      },
      "source": [
        "<a href=\"https://colab.research.google.com/github/petrobenjamin/trabajo-de-juego/blob/main/trabajo_de_juego.ipynb\" target=\"_parent\"><img src=\"https://colab.research.google.com/assets/colab-badge.svg\" alt=\"Open In Colab\"/></a>"
      ]
    },
    {
      "cell_type": "code",
      "execution_count": 1,
      "metadata": {
        "colab": {
          "base_uri": "https://localhost:8080/"
        },
        "id": "1uwJOplem9sJ",
        "outputId": "f0b932d2-e0f3-420c-d4ac-1c93fccf6157"
      },
      "outputs": [
        {
          "name": "stdout",
          "output_type": "stream",
          "text": [
            "\n",
            "Encuentra el valor oculto:\n",
            "\n",
            "g I *\n",
            "e y y\n",
            "r 6 a\n",
            "\n",
            "Tu respuesta: s\n",
            "Incorrecto. El valor era U.\n",
            "¿Jugar de nuevo? (s/n): n\n"
          ]
        }
      ],
      "source": [
        "import random\n",
        "import string\n",
        "import time\n",
        "from IPython.display import clear_output\n",
        "\n",
        "def generate_grid(n):\n",
        "    values = list(string.ascii_letters + string.digits + \"@#$\") * (n * n // 4)\n",
        "    random.shuffle(values)\n",
        "    return [[random.choice(values) for _ in range(n)] for _ in range(n)]\n",
        "\n",
        "def display_grid(grid):\n",
        "    print(\"\\n\".join(\" \".join(row) for row in grid))\n",
        "\n",
        "def hide_value(grid, value):\n",
        "    for row in grid:\n",
        "        if value in row:\n",
        "            row[row.index(value)] = \"*\"\n",
        "            break\n",
        "\n",
        "def reveal_value(grid, value):\n",
        "    for row in grid:\n",
        "        if \"*\" in row:\n",
        "            row[row.index(\"*\")] = value\n",
        "\n",
        "def get_time_limit(n):\n",
        "    return max(3, 3 + 0.5 * (n - 3))\n",
        "\n",
        "def play_game():\n",
        "    n = int(input(\"Ingrese el tamaño de la cuadrícula (n*n): \"))\n",
        "    grid = generate_grid(n)\n",
        "\n",
        "    print(\"Memoria de Valores\\n\")\n",
        "    display_grid(grid)\n",
        "    time_limit = get_time_limit(n)\n",
        "    time.sleep(time_limit)\n",
        "    clear_output(wait=True)\n",
        "    hidden_value = random.choice(grid[0])\n",
        "    hide_value(grid, hidden_value)\n",
        "\n",
        "    print(\"\\nEncuentra el valor oculto:\\n\")\n",
        "    display_grid(grid)\n",
        "    guess = input(\"\\nTu respuesta: \")\n",
        "    reveal_value(grid, hidden_value)\n",
        "    print(\"¡Correcto! Has encontrado el valor oculto.\" if guess == hidden_value else f\"Incorrecto. El valor era {hidden_value}.\")\n",
        "\n",
        "def main():\n",
        "    while True:\n",
        "        play_game()\n",
        "        if input(\"¿Jugar de nuevo? (s/n): \").lower() != \"s\":\n",
        "            break\n",
        "\n",
        "if __name__ == \"__main__\":\n",
        "    main()"
      ]
    }
  ]
}